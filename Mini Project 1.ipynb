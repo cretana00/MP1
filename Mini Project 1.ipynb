{
 "cells": [
  {
   "cell_type": "code",
   "execution_count": 1,
   "metadata": {},
   "outputs": [
    {
     "name": "stderr",
     "output_type": "stream",
     "text": [
      "/var/folders/v6/45gptb0507bc3n4c8c6y3p1r0000gn/T/ipykernel_30173/3545200458.py:1: DeprecationWarning: \n",
      "Pyarrow will become a required dependency of pandas in the next major release of pandas (pandas 3.0),\n",
      "(to allow more performant data types, such as the Arrow string type, and better interoperability with other libraries)\n",
      "but was not found to be installed on your system.\n",
      "If this would cause problems for you,\n",
      "please provide us feedback at https://github.com/pandas-dev/pandas/issues/54466\n",
      "        \n",
      "  import  pandas as pd\n"
     ]
    }
   ],
   "source": [
    "import  pandas as pd"
   ]
  },
  {
   "cell_type": "code",
   "execution_count": 2,
   "metadata": {},
   "outputs": [],
   "source": [
    "rawWorkingOutDF = pd.read_csv(\"WorkingOutSurvey.csv\")"
   ]
  },
  {
   "cell_type": "code",
   "execution_count": 3,
   "metadata": {},
   "outputs": [],
   "source": [
    "lengthRawWorkingOutDF = len(rawWorkingOutDF)"
   ]
  },
  {
   "cell_type": "markdown",
   "metadata": {},
   "source": [
    "Q1: How old are you?"
   ]
  },
  {
   "cell_type": "code",
   "execution_count": 5,
   "metadata": {},
   "outputs": [
    {
     "data": {
      "text/plain": [
       "0.0"
      ]
     },
     "execution_count": 5,
     "metadata": {},
     "output_type": "execute_result"
    }
   ],
   "source": [
    "# percentage of 18 year olds\n",
    "eightteenDF =  (rawWorkingOutDF[\"How old are you ?\"] == 18).sum()\n",
    "eightteenDF/lengthRawWorkingOutDF"
   ]
  },
  {
   "cell_type": "code",
   "execution_count": 6,
   "metadata": {},
   "outputs": [
    {
     "data": {
      "text/plain": [
       "0.0"
      ]
     },
     "execution_count": 6,
     "metadata": {},
     "output_type": "execute_result"
    }
   ],
   "source": [
    "# percentage of 19 year olds\n",
    "nineteenDF =  (rawWorkingOutDF[\"How old are you ?\"] == 19).sum()\n",
    "nineteenDF/lengthRawWorkingOutDF"
   ]
  },
  {
   "cell_type": "code",
   "execution_count": 8,
   "metadata": {},
   "outputs": [
    {
     "data": {
      "text/plain": [
       "0.4166666666666667"
      ]
     },
     "execution_count": 8,
     "metadata": {},
     "output_type": "execute_result"
    }
   ],
   "source": [
    "# percentage of 20 year olds\n",
    "twentyDF =  (rawWorkingOutDF[\"How old are you ?\"] == 20).sum()\n",
    "twentyDF/lengthRawWorkingOutDF"
   ]
  },
  {
   "cell_type": "code",
   "execution_count": 9,
   "metadata": {},
   "outputs": [
    {
     "data": {
      "text/plain": [
       "0.5"
      ]
     },
     "execution_count": 9,
     "metadata": {},
     "output_type": "execute_result"
    }
   ],
   "source": [
    "# percentage of 21 year olds\n",
    "twentyoneDF =  (rawWorkingOutDF[\"How old are you ?\"] == 21).sum()\n",
    "twentyoneDF/lengthRawWorkingOutDF"
   ]
  },
  {
   "cell_type": "code",
   "execution_count": 11,
   "metadata": {},
   "outputs": [
    {
     "data": {
      "text/plain": [
       "0.08333333333333333"
      ]
     },
     "execution_count": 11,
     "metadata": {},
     "output_type": "execute_result"
    }
   ],
   "source": [
    "# percentage of 22 year olds\n",
    "twentytwoDF =  (rawWorkingOutDF[\"How old are you ?\"] == 22).sum()\n",
    "twentytwoDF/lengthRawWorkingOutDF"
   ]
  },
  {
   "cell_type": "markdown",
   "metadata": {},
   "source": [
    "Q2: What is your gender ?"
   ]
  },
  {
   "cell_type": "code",
   "execution_count": 13,
   "metadata": {},
   "outputs": [
    {
     "data": {
      "text/plain": [
       "0.8333333333333334"
      ]
     },
     "execution_count": 13,
     "metadata": {},
     "output_type": "execute_result"
    }
   ],
   "source": [
    "# percentage of males \n",
    "maleDF =  (rawWorkingOutDF[\"What is your gender ?\"] == \"Male\").sum()\n",
    "maleDF/lengthRawWorkingOutDF"
   ]
  },
  {
   "cell_type": "code",
   "execution_count": 14,
   "metadata": {},
   "outputs": [
    {
     "data": {
      "text/plain": [
       "0.16666666666666666"
      ]
     },
     "execution_count": 14,
     "metadata": {},
     "output_type": "execute_result"
    }
   ],
   "source": [
    "# percentage of males \n",
    "femaleDF =  (rawWorkingOutDF[\"What is your gender ?\"] == \"Female\").sum()\n",
    "femaleDF/lengthRawWorkingOutDF"
   ]
  },
  {
   "cell_type": "markdown",
   "metadata": {},
   "source": [
    "Q3: What year are you ?"
   ]
  },
  {
   "cell_type": "code",
   "execution_count": 15,
   "metadata": {},
   "outputs": [
    {
     "data": {
      "text/plain": [
       "0.0"
      ]
     },
     "execution_count": 15,
     "metadata": {},
     "output_type": "execute_result"
    }
   ],
   "source": [
    "# percentage of year\n",
    "yearDF =  (rawWorkingOutDF[\"What year are you ?\"] == \"Freshman\").sum()\n",
    "yearDF/lengthRawWorkingOutDF"
   ]
  },
  {
   "cell_type": "code",
   "execution_count": 16,
   "metadata": {},
   "outputs": [
    {
     "data": {
      "text/plain": [
       "0.0"
      ]
     },
     "execution_count": 16,
     "metadata": {},
     "output_type": "execute_result"
    }
   ],
   "source": [
    "# percentage of year\n",
    "yearDF =  (rawWorkingOutDF[\"What year are you ?\"] == \"Sophomore\").sum()\n",
    "yearDF/lengthRawWorkingOutDF"
   ]
  },
  {
   "cell_type": "code",
   "execution_count": 17,
   "metadata": {},
   "outputs": [
    {
     "data": {
      "text/plain": [
       "0.6666666666666666"
      ]
     },
     "execution_count": 17,
     "metadata": {},
     "output_type": "execute_result"
    }
   ],
   "source": [
    "# percentage of year\n",
    "yearDF =  (rawWorkingOutDF[\"What year are you ?\"] == \"Junior\").sum()\n",
    "yearDF/lengthRawWorkingOutDF"
   ]
  },
  {
   "cell_type": "code",
   "execution_count": 18,
   "metadata": {},
   "outputs": [
    {
     "data": {
      "text/plain": [
       "0.3333333333333333"
      ]
     },
     "execution_count": 18,
     "metadata": {},
     "output_type": "execute_result"
    }
   ],
   "source": [
    "# percentage of year\n",
    "yearDF =  (rawWorkingOutDF[\"What year are you ?\"] == \"Senior\").sum()\n",
    "yearDF/lengthRawWorkingOutDF"
   ]
  },
  {
   "cell_type": "markdown",
   "metadata": {},
   "source": [
    "Q4: How often do you workout ?"
   ]
  },
  {
   "cell_type": "code",
   "execution_count": 20,
   "metadata": {},
   "outputs": [
    {
     "data": {
      "text/plain": [
       "0.0"
      ]
     },
     "execution_count": 20,
     "metadata": {},
     "output_type": "execute_result"
    }
   ],
   "source": [
    "# percentage of number of times\n",
    "numberoftimesDF =  (rawWorkingOutDF[\"How often do you workout ?\"] == \"1 times per week\").sum()\n",
    "numberoftimesDF/lengthRawWorkingOutDF"
   ]
  },
  {
   "cell_type": "code",
   "execution_count": 21,
   "metadata": {},
   "outputs": [
    {
     "data": {
      "text/plain": [
       "0.16666666666666666"
      ]
     },
     "execution_count": 21,
     "metadata": {},
     "output_type": "execute_result"
    }
   ],
   "source": [
    "# percentage of number of times\n",
    "numberoftimesDF =  (rawWorkingOutDF[\"How often do you workout ?\"] == \"2 times per week\").sum()\n",
    "numberoftimesDF/lengthRawWorkingOutDF"
   ]
  },
  {
   "cell_type": "code",
   "execution_count": 22,
   "metadata": {},
   "outputs": [
    {
     "data": {
      "text/plain": [
       "0.16666666666666666"
      ]
     },
     "execution_count": 22,
     "metadata": {},
     "output_type": "execute_result"
    }
   ],
   "source": [
    "# percentage of number of times\n",
    "numberoftimesDF =  (rawWorkingOutDF[\"How often do you workout ?\"] == \"3 times per week\").sum()\n",
    "numberoftimesDF/lengthRawWorkingOutDF"
   ]
  },
  {
   "cell_type": "code",
   "execution_count": 23,
   "metadata": {},
   "outputs": [
    {
     "data": {
      "text/plain": [
       "0.25"
      ]
     },
     "execution_count": 23,
     "metadata": {},
     "output_type": "execute_result"
    }
   ],
   "source": [
    "# percentage of number of times\n",
    "numberoftimesDF =  (rawWorkingOutDF[\"How often do you workout ?\"] == \"4 times per week\").sum()\n",
    "numberoftimesDF/lengthRawWorkingOutDF"
   ]
  },
  {
   "cell_type": "code",
   "execution_count": 24,
   "metadata": {},
   "outputs": [
    {
     "data": {
      "text/plain": [
       "0.0"
      ]
     },
     "execution_count": 24,
     "metadata": {},
     "output_type": "execute_result"
    }
   ],
   "source": [
    "# percentage of number of times\n",
    "numberoftimesDF =  (rawWorkingOutDF[\"How often do you workout ?\"] == \"5 times per week\").sum()\n",
    "numberoftimesDF/lengthRawWorkingOutDF"
   ]
  },
  {
   "cell_type": "code",
   "execution_count": 25,
   "metadata": {},
   "outputs": [
    {
     "data": {
      "text/plain": [
       "0.3333333333333333"
      ]
     },
     "execution_count": 25,
     "metadata": {},
     "output_type": "execute_result"
    }
   ],
   "source": [
    "# percentage of number of times\n",
    "numberoftimesDF =  (rawWorkingOutDF[\"How often do you workout ?\"] == \"5+ times per week\").sum()\n",
    "numberoftimesDF/lengthRawWorkingOutDF"
   ]
  },
  {
   "cell_type": "markdown",
   "metadata": {},
   "source": [
    "Q5: What time of day do you workout ?"
   ]
  },
  {
   "cell_type": "code",
   "execution_count": 26,
   "metadata": {},
   "outputs": [
    {
     "data": {
      "text/plain": [
       "0.25"
      ]
     },
     "execution_count": 26,
     "metadata": {},
     "output_type": "execute_result"
    }
   ],
   "source": [
    "# percentage of time of day\n",
    "timeofdayDF =  (rawWorkingOutDF[\"What time of day do you workout ?\"] == \"Morning\").sum()\n",
    "timeofdayDF/lengthRawWorkingOutDF"
   ]
  },
  {
   "cell_type": "code",
   "execution_count": 27,
   "metadata": {},
   "outputs": [
    {
     "data": {
      "text/plain": [
       "0.6666666666666666"
      ]
     },
     "execution_count": 27,
     "metadata": {},
     "output_type": "execute_result"
    }
   ],
   "source": [
    "# percentage of time of day\n",
    "timeofdayDF =  (rawWorkingOutDF[\"What time of day do you workout ?\"] == \"Afternoon\").sum()\n",
    "timeofdayDF/lengthRawWorkingOutDF"
   ]
  },
  {
   "cell_type": "code",
   "execution_count": 28,
   "metadata": {},
   "outputs": [
    {
     "data": {
      "text/plain": [
       "0.0"
      ]
     },
     "execution_count": 28,
     "metadata": {},
     "output_type": "execute_result"
    }
   ],
   "source": [
    "# percentage of time of day\n",
    "timeofdayDF =  (rawWorkingOutDF[\"What time of day do you workout ?\"] == \"Evening\").sum()\n",
    "timeofdayDF/lengthRawWorkingOutDF"
   ]
  },
  {
   "cell_type": "code",
   "execution_count": 29,
   "metadata": {},
   "outputs": [
    {
     "data": {
      "text/plain": [
       "0.08333333333333333"
      ]
     },
     "execution_count": 29,
     "metadata": {},
     "output_type": "execute_result"
    }
   ],
   "source": [
    "# percentage of time of day\n",
    "timeofdayDF =  (rawWorkingOutDF[\"What time of day do you workout ?\"] == \"Night\").sum()\n",
    "timeofdayDF/lengthRawWorkingOutDF"
   ]
  },
  {
   "cell_type": "markdown",
   "metadata": {},
   "source": [
    "Q6: Where do you workout ?"
   ]
  },
  {
   "cell_type": "code",
   "execution_count": 31,
   "metadata": {},
   "outputs": [
    {
     "data": {
      "text/plain": [
       "0.5833333333333334"
      ]
     },
     "execution_count": 31,
     "metadata": {},
     "output_type": "execute_result"
    }
   ],
   "source": [
    "# percentage of where you workout\n",
    "whereyouworkoutDF =  (rawWorkingOutDF[\"Where do you workout ?\"] == \"Cage\").sum()\n",
    "whereyouworkoutDF/lengthRawWorkingOutDF"
   ]
  },
  {
   "cell_type": "code",
   "execution_count": 32,
   "metadata": {},
   "outputs": [
    {
     "data": {
      "text/plain": [
       "0.08333333333333333"
      ]
     },
     "execution_count": 32,
     "metadata": {},
     "output_type": "execute_result"
    }
   ],
   "source": [
    "# percentage of where you workout\n",
    "whereyouworkoutDF =  (rawWorkingOutDF[\"Where do you workout ?\"] == \"Planet Fitness\").sum()\n",
    "whereyouworkoutDF/lengthRawWorkingOutDF"
   ]
  },
  {
   "cell_type": "code",
   "execution_count": 33,
   "metadata": {},
   "outputs": [
    {
     "data": {
      "text/plain": [
       "0.16666666666666666"
      ]
     },
     "execution_count": 33,
     "metadata": {},
     "output_type": "execute_result"
    }
   ],
   "source": [
    "# percentage of where you workout\n",
    "whereyouworkoutDF =  (rawWorkingOutDF[\"Where do you workout ?\"] == \"Outside\").sum()\n",
    "whereyouworkoutDF/lengthRawWorkingOutDF"
   ]
  },
  {
   "cell_type": "code",
   "execution_count": 34,
   "metadata": {},
   "outputs": [
    {
     "data": {
      "text/plain": [
       "0.08333333333333333"
      ]
     },
     "execution_count": 34,
     "metadata": {},
     "output_type": "execute_result"
    }
   ],
   "source": [
    "# percentage of where you workout\n",
    "whereyouworkoutDF =  (rawWorkingOutDF[\"Where do you workout ?\"] == \"Local gym\").sum()\n",
    "whereyouworkoutDF/lengthRawWorkingOutDF"
   ]
  },
  {
   "cell_type": "code",
   "execution_count": 35,
   "metadata": {},
   "outputs": [
    {
     "data": {
      "text/plain": [
       "0.08333333333333333"
      ]
     },
     "execution_count": 35,
     "metadata": {},
     "output_type": "execute_result"
    }
   ],
   "source": [
    "# percentage of where you workout\n",
    "whereyouworkoutDF =  (rawWorkingOutDF[\"Where do you workout ?\"] == \"My room\").sum()\n",
    "whereyouworkoutDF/lengthRawWorkingOutDF"
   ]
  },
  {
   "cell_type": "markdown",
   "metadata": {},
   "source": [
    "Q7: Why do you workout ?"
   ]
  },
  {
   "cell_type": "code",
   "execution_count": 37,
   "metadata": {},
   "outputs": [
    {
     "data": {
      "text/plain": [
       "0.0"
      ]
     },
     "execution_count": 37,
     "metadata": {},
     "output_type": "execute_result"
    }
   ],
   "source": [
    "# percentage of why you workout\n",
    "whyyouworkoutDF =  (rawWorkingOutDF[\"Why do you workout ?\"] == \"To look good\").sum()\n",
    "whyyouworkoutDF/lengthRawWorkingOutDF"
   ]
  },
  {
   "cell_type": "code",
   "execution_count": 38,
   "metadata": {},
   "outputs": [
    {
     "data": {
      "text/plain": [
       "0.3333333333333333"
      ]
     },
     "execution_count": 38,
     "metadata": {},
     "output_type": "execute_result"
    }
   ],
   "source": [
    "# percentage of why you workout\n",
    "whyyouworkoutDF =  (rawWorkingOutDF[\"Why do you workout ?\"] == \"To feel good\").sum()\n",
    "whyyouworkoutDF/lengthRawWorkingOutDF"
   ]
  },
  {
   "cell_type": "code",
   "execution_count": 41,
   "metadata": {},
   "outputs": [
    {
     "data": {
      "text/plain": [
       "0.5833333333333334"
      ]
     },
     "execution_count": 41,
     "metadata": {},
     "output_type": "execute_result"
    }
   ],
   "source": [
    "# percentage of why you workout\n",
    "whyyouworkoutDF =  (rawWorkingOutDF[\"Why do you workout ?\"] == \"To be healthy\").sum()\n",
    "whyyouworkoutDF/lengthRawWorkingOutDF"
   ]
  },
  {
   "cell_type": "code",
   "execution_count": 40,
   "metadata": {},
   "outputs": [
    {
     "data": {
      "text/plain": [
       "0.08333333333333333"
      ]
     },
     "execution_count": 40,
     "metadata": {},
     "output_type": "execute_result"
    }
   ],
   "source": [
    "# percentage of why you workout\n",
    "whyyouworkoutDF =  (rawWorkingOutDF[\"Why do you workout ?\"] == \"To socialize\").sum()\n",
    "whyyouworkoutDF/lengthRawWorkingOutDF"
   ]
  },
  {
   "cell_type": "markdown",
   "metadata": {},
   "source": [
    "Q8: Why do you workout that many times ?"
   ]
  },
  {
   "cell_type": "code",
   "execution_count": 42,
   "metadata": {},
   "outputs": [
    {
     "data": {
      "text/plain": [
       "0.5"
      ]
     },
     "execution_count": 42,
     "metadata": {},
     "output_type": "execute_result"
    }
   ],
   "source": [
    "# percentage of why you workout that many times \n",
    "thatmanytimesDF =  (rawWorkingOutDF[\"Why do you workout that many times ?\"] == \"To stay in shape\").sum()\n",
    "thatmanytimesDF/lengthRawWorkingOutDF"
   ]
  },
  {
   "cell_type": "code",
   "execution_count": 43,
   "metadata": {},
   "outputs": [
    {
     "data": {
      "text/plain": [
       "0.08333333333333333"
      ]
     },
     "execution_count": 43,
     "metadata": {},
     "output_type": "execute_result"
    }
   ],
   "source": [
    "# percentage of why you workout that many times \n",
    "thatmanytimesDF =  (rawWorkingOutDF[\"Why do you workout that many times ?\"] == \"To distract yourself\").sum()\n",
    "thatmanytimesDF/lengthRawWorkingOutDF"
   ]
  },
  {
   "cell_type": "code",
   "execution_count": 45,
   "metadata": {},
   "outputs": [
    {
     "data": {
      "text/plain": [
       "0.4166666666666667"
      ]
     },
     "execution_count": 45,
     "metadata": {},
     "output_type": "execute_result"
    }
   ],
   "source": [
    "# percentage of why you workout that many times \n",
    "thatmanytimesDF =  (rawWorkingOutDF[\"Why do you workout that many times ?\"] == \"To live a healthy lifestyle\").sum()\n",
    "thatmanytimesDF/lengthRawWorkingOutDF"
   ]
  },
  {
   "cell_type": "markdown",
   "metadata": {},
   "source": [
    "Q9: Why do your workout where you do ?"
   ]
  },
  {
   "cell_type": "code",
   "execution_count": 46,
   "metadata": {},
   "outputs": [
    {
     "data": {
      "text/plain": [
       "0.6666666666666666"
      ]
     },
     "execution_count": 46,
     "metadata": {},
     "output_type": "execute_result"
    }
   ],
   "source": [
    "# percentage of why you workout where you do\n",
    "whereyoudoDF =  (rawWorkingOutDF[\"Why do you workout where you do ?\"] == \"Its the most convenient\").sum()\n",
    "whereyoudoDF/lengthRawWorkingOutDF"
   ]
  },
  {
   "cell_type": "code",
   "execution_count": 49,
   "metadata": {},
   "outputs": [
    {
     "data": {
      "text/plain": [
       "0.16666666666666666"
      ]
     },
     "execution_count": 49,
     "metadata": {},
     "output_type": "execute_result"
    }
   ],
   "source": [
    "# percentage of why you workout where you do\n",
    "whereyoudoDF =  (rawWorkingOutDF[\"Why do you workout where you do ?\"] == \"They have good equipment\").sum()\n",
    "whereyoudoDF/lengthRawWorkingOutDF"
   ]
  },
  {
   "cell_type": "code",
   "execution_count": 50,
   "metadata": {},
   "outputs": [
    {
     "data": {
      "text/plain": [
       "0.08333333333333333"
      ]
     },
     "execution_count": 50,
     "metadata": {},
     "output_type": "execute_result"
    }
   ],
   "source": [
    "# percentage of why you workout where you do\n",
    "whereyoudoDF =  (rawWorkingOutDF[\"Why do you workout where you do ?\"] == \"People I know workout there\").sum()\n",
    "whereyoudoDF/lengthRawWorkingOutDF"
   ]
  },
  {
   "cell_type": "code",
   "execution_count": 51,
   "metadata": {},
   "outputs": [
    {
     "data": {
      "text/plain": [
       "0.08333333333333333"
      ]
     },
     "execution_count": 51,
     "metadata": {},
     "output_type": "execute_result"
    }
   ],
   "source": [
    "# percentage of why you workout where you do\n",
    "whereyoudoDF =  (rawWorkingOutDF[\"Why do you workout where you do ?\"] == \"Comfortable environment\").sum()\n",
    "whereyoudoDF/lengthRawWorkingOutDF"
   ]
  }
 ],
 "metadata": {
  "kernelspec": {
   "display_name": "Python 3",
   "language": "python",
   "name": "python3"
  },
  "language_info": {
   "codemirror_mode": {
    "name": "ipython",
    "version": 3
   },
   "file_extension": ".py",
   "mimetype": "text/x-python",
   "name": "python",
   "nbconvert_exporter": "python",
   "pygments_lexer": "ipython3",
   "version": "3.9.6"
  }
 },
 "nbformat": 4,
 "nbformat_minor": 2
}
