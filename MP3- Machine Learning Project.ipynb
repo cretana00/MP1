{
 "cells": [
  {
   "cell_type": "markdown",
   "metadata": {},
   "source": [
    "- What features/columns had a relatively even or normal distribution? Which features/columns did not?\n",
    "Overall, the CGPA column has a relatively even distribution, while the IQ feature deviates slightly from normality with some skewness. \n",
    "\n",
    "- How did you handle missing values? Why did you do this method as opposed to others?\n",
    "Overall, replacing empty strings with pd.NA is a recommended preprocessing step to ensure consistent handling of missing values in your DataFrame. \n",
    "\n",
    "- How did you encode your categorical data? Why did you do this method as opposed to others?\n",
    "This method of one-hot encoding with OneHotEncoder was chosen because it efficiently handles categorical data, is easy to implement with scikit-learn, and provides flexibility in handling categorical features with multiple categories. \n",
    "\n",
    "- How did you handle removing outliers? Why did you use this method as opposed to others?\n",
    "Overall, using StandardScaler to scale the features was chosen because it provides a robust and efficient method for handling outliers without making strong assumptions about the underlying data distribution. \n",
    "\n",
    "- How did you normalize/standardize the data? Why did you use this method as opposed to others?\n",
    "Overall, standardization was chosen as the preferred method to scale the features because it is robust, effective, and suitable for a wide range of data distributions and machine learning tasks.\n",
    "\n",
    "- How did each model perform? Which performed the best?\n",
    "My models performed poorly on both the training anf testing sets. \n",
    "\n",
    "- Did any models seem to have a relatively high amount of bias (underfitting)? Variance (overfitting)?\n",
    "If a model has high bias, it performs poorly on both the training and testing sets. This indicates that the model is too simple to capture the underlying patterns in the data.\n",
    "Signs of high bias include low accuracy, precision, recall, and F1 score on both training and testing sets."
   ]
  },
  {
   "cell_type": "code",
   "execution_count": 103,
   "metadata": {},
   "outputs": [],
   "source": [
    "import pandas as pd\n",
    "from sklearn.impute import SimpleImputer\n",
    "from sklearn.preprocessing import OneHotEncoder, StandardScaler\n",
    "from io import StringIO  # Import StringIO from io module"
   ]
  },
  {
   "cell_type": "code",
   "execution_count": 104,
   "metadata": {},
   "outputs": [
    {
     "data": {
      "text/html": [
       "<div>\n",
       "<style scoped>\n",
       "    .dataframe tbody tr th:only-of-type {\n",
       "        vertical-align: middle;\n",
       "    }\n",
       "\n",
       "    .dataframe tbody tr th {\n",
       "        vertical-align: top;\n",
       "    }\n",
       "\n",
       "    .dataframe thead th {\n",
       "        text-align: right;\n",
       "    }\n",
       "</style>\n",
       "<table border=\"1\" class=\"dataframe\">\n",
       "  <thead>\n",
       "    <tr style=\"text-align: right;\">\n",
       "      <th></th>\n",
       "      <th>city</th>\n",
       "      <th>cgpa</th>\n",
       "      <th>iq</th>\n",
       "      <th>placement</th>\n",
       "    </tr>\n",
       "  </thead>\n",
       "  <tbody>\n",
       "    <tr>\n",
       "      <th>0</th>\n",
       "      <td>New York</td>\n",
       "      <td>6.8</td>\n",
       "      <td>123.0</td>\n",
       "      <td>1</td>\n",
       "    </tr>\n",
       "    <tr>\n",
       "      <th>1</th>\n",
       "      <td>Los Angeles</td>\n",
       "      <td>5.9</td>\n",
       "      <td>106.0</td>\n",
       "      <td>0</td>\n",
       "    </tr>\n",
       "    <tr>\n",
       "      <th>2</th>\n",
       "      <td>Chicago</td>\n",
       "      <td>NaN</td>\n",
       "      <td>121.0</td>\n",
       "      <td>0</td>\n",
       "    </tr>\n",
       "    <tr>\n",
       "      <th>3</th>\n",
       "      <td>New York</td>\n",
       "      <td>7.4</td>\n",
       "      <td>132.0</td>\n",
       "      <td>1</td>\n",
       "    </tr>\n",
       "    <tr>\n",
       "      <th>4</th>\n",
       "      <td>Los Angeles</td>\n",
       "      <td>5.8</td>\n",
       "      <td>142.0</td>\n",
       "      <td>0</td>\n",
       "    </tr>\n",
       "  </tbody>\n",
       "</table>\n",
       "</div>"
      ],
      "text/plain": [
       "          city  cgpa     iq  placement\n",
       "0     New York   6.8  123.0          1\n",
       "1  Los Angeles   5.9  106.0          0\n",
       "2      Chicago   NaN  121.0          0\n",
       "3     New York   7.4  132.0          1\n",
       "4  Los Angeles   5.8  142.0          0"
      ]
     },
     "execution_count": 104,
     "metadata": {},
     "output_type": "execute_result"
    }
   ],
   "source": [
    "rawDF = pd.read_csv(\"placement-dataset.csv\")\n",
    "\n",
    "rawDF.head()"
   ]
  },
  {
   "cell_type": "code",
   "execution_count": 105,
   "metadata": {},
   "outputs": [
    {
     "data": {
      "text/html": [
       "<div>\n",
       "<style scoped>\n",
       "    .dataframe tbody tr th:only-of-type {\n",
       "        vertical-align: middle;\n",
       "    }\n",
       "\n",
       "    .dataframe tbody tr th {\n",
       "        vertical-align: top;\n",
       "    }\n",
       "\n",
       "    .dataframe thead th {\n",
       "        text-align: right;\n",
       "    }\n",
       "</style>\n",
       "<table border=\"1\" class=\"dataframe\">\n",
       "  <thead>\n",
       "    <tr style=\"text-align: right;\">\n",
       "      <th></th>\n",
       "      <th>cgpa</th>\n",
       "      <th>iq</th>\n",
       "      <th>placement</th>\n",
       "    </tr>\n",
       "  </thead>\n",
       "  <tbody>\n",
       "    <tr>\n",
       "      <th>count</th>\n",
       "      <td>92.000000</td>\n",
       "      <td>96.000000</td>\n",
       "      <td>100.000000</td>\n",
       "    </tr>\n",
       "    <tr>\n",
       "      <th>mean</th>\n",
       "      <td>5.965217</td>\n",
       "      <td>117.916667</td>\n",
       "      <td>0.460000</td>\n",
       "    </tr>\n",
       "    <tr>\n",
       "      <th>std</th>\n",
       "      <td>1.164911</td>\n",
       "      <td>46.913508</td>\n",
       "      <td>0.500908</td>\n",
       "    </tr>\n",
       "    <tr>\n",
       "      <th>min</th>\n",
       "      <td>3.300000</td>\n",
       "      <td>1.000000</td>\n",
       "      <td>0.000000</td>\n",
       "    </tr>\n",
       "    <tr>\n",
       "      <th>25%</th>\n",
       "      <td>5.000000</td>\n",
       "      <td>90.000000</td>\n",
       "      <td>0.000000</td>\n",
       "    </tr>\n",
       "    <tr>\n",
       "      <th>50%</th>\n",
       "      <td>6.000000</td>\n",
       "      <td>122.000000</td>\n",
       "      <td>0.000000</td>\n",
       "    </tr>\n",
       "    <tr>\n",
       "      <th>75%</th>\n",
       "      <td>6.825000</td>\n",
       "      <td>146.750000</td>\n",
       "      <td>1.000000</td>\n",
       "    </tr>\n",
       "    <tr>\n",
       "      <th>max</th>\n",
       "      <td>8.500000</td>\n",
       "      <td>233.000000</td>\n",
       "      <td>1.000000</td>\n",
       "    </tr>\n",
       "  </tbody>\n",
       "</table>\n",
       "</div>"
      ],
      "text/plain": [
       "            cgpa          iq   placement\n",
       "count  92.000000   96.000000  100.000000\n",
       "mean    5.965217  117.916667    0.460000\n",
       "std     1.164911   46.913508    0.500908\n",
       "min     3.300000    1.000000    0.000000\n",
       "25%     5.000000   90.000000    0.000000\n",
       "50%     6.000000  122.000000    0.000000\n",
       "75%     6.825000  146.750000    1.000000\n",
       "max     8.500000  233.000000    1.000000"
      ]
     },
     "execution_count": 105,
     "metadata": {},
     "output_type": "execute_result"
    }
   ],
   "source": [
    "rawDF.describe()"
   ]
  },
  {
   "cell_type": "code",
   "execution_count": 106,
   "metadata": {},
   "outputs": [
    {
     "name": "stdout",
     "output_type": "stream",
     "text": [
      "Summary Statistics:\n",
      "           cgpa          iq\n",
      "count  5.000000    5.000000\n",
      "mean   6.600000  110.200000\n",
      "std    0.717635   37.204838\n",
      "min    5.800000   48.000000\n",
      "25%    5.900000  106.000000\n",
      "50%    6.800000  123.000000\n",
      "75%    7.100000  132.000000\n",
      "max    7.400000  142.000000\n"
     ]
    },
    {
     "data": {
      "image/png": "[encoded data removed]",
      "text/plain": [
       "<Figure size 1000x500 with 2 Axes>"
      ]
     },
     "metadata": {},
     "output_type": "display_data"
    }
   ],
   "source": [
    "import io\n",
    "import matplotlib.pyplot as plt\n",
    "\n",
    "\n",
    "# Read the data directly from the string\n",
    "df = pd.read_csv(io.StringIO(data))\n",
    "\n",
    "# Remove rows with missing values in 'cgpa' and 'iq'\n",
    "df.dropna(subset=['cgpa', 'iq'], inplace=True)\n",
    "\n",
    "# Convert 'cgpa' and 'iq' to numerical data type\n",
    "df['cgpa'] = pd.to_numeric(df['cgpa'])\n",
    "df['iq'] = pd.to_numeric(df['iq'])\n",
    "\n",
    "# Summary statistics\n",
    "print(\"Summary Statistics:\")\n",
    "print(df[['cgpa', 'iq']].describe())\n",
    "\n",
    "# Histograms\n",
    "plt.figure(figsize=(10, 5))\n",
    "plt.subplot(1, 2, 1)\n",
    "plt.hist(df['cgpa'], bins=10, color='skyblue', edgecolor='black')\n",
    "plt.title('Distribution of CGPA')\n",
    "plt.xlabel('CGPA')\n",
    "plt.ylabel('Frequency')\n",
    "\n",
    "plt.subplot(1, 2, 2)\n",
    "plt.hist(df['iq'], bins=10, color='lightgreen', edgecolor='black')\n",
    "plt.title('Distribution of IQ')\n",
    "plt.xlabel('IQ')\n",
    "plt.ylabel('Frequency')\n",
    "\n",
    "plt.tight_layout()\n",
    "plt.show()\n"
   ]
  },
  {
   "cell_type": "code",
   "execution_count": 107,
   "metadata": {},
   "outputs": [],
   "source": [
    "df = pd.read_csv(StringIO(data))  # Use StringIO directly"
   ]
  },
  {
   "cell_type": "code",
   "execution_count": 108,
   "metadata": {},
   "outputs": [],
   "source": [
    "# Handle missing values\n",
    "df.replace('', pd.NA, inplace=True)"
   ]
  },
  {
   "cell_type": "code",
   "execution_count": 109,
   "metadata": {},
   "outputs": [],
   "source": [
    "# Convert data types\n",
    "df['city'] = df['city'].astype('category')\n",
    "df['cgpa'] = pd.to_numeric(df['cgpa'], errors='coerce')\n",
    "df['iq'] = pd.to_numeric(df['iq'], errors='coerce')\n",
    "df['placement'] = pd.to_numeric(df['placement'], errors='coerce')"
   ]
  },
  {
   "cell_type": "code",
   "execution_count": 110,
   "metadata": {},
   "outputs": [],
   "source": [
    "# Impute missing values\n",
    "imputer = SimpleImputer(strategy='median')\n",
    "df[['cgpa', 'iq']] = imputer.fit_transform(df[['cgpa', 'iq']])\n"
   ]
  },
  {
   "cell_type": "code",
   "execution_count": 111,
   "metadata": {},
   "outputs": [
    {
     "name": "stderr",
     "output_type": "stream",
     "text": [
      "/Users/chrisretana/anaconda3/lib/python3.11/site-packages/sklearn/preprocessing/_encoders.py:972: FutureWarning: `sparse` was renamed to `sparse_output` in version 1.2 and will be removed in 1.4. `sparse_output` is ignored unless you leave `sparse` to its default value.\n",
      "  warnings.warn(\n"
     ]
    }
   ],
   "source": [
    "# Encode categorical data\n",
    "encoder = OneHotEncoder(sparse=False, drop='first')\n",
    "encoded_features = encoder.fit_transform(df[['city']])\n",
    "encoded_columns = encoder.categories_[0][1:]  # Get categories from encoder and remove first one\n",
    "encoded_df = pd.DataFrame(encoded_features, columns=encoded_columns)\n",
    "df.drop(columns=['city'], inplace=True)\n",
    "df = pd.concat([df, encoded_df], axis=1)"
   ]
  },
  {
   "cell_type": "code",
   "execution_count": 112,
   "metadata": {},
   "outputs": [
    {
     "name": "stdout",
     "output_type": "stream",
     "text": [
      "       cgpa        iq  placement  Chicago  Los Angeles  New York\n",
      "0  0.259762  0.334841        1.0      0.0          0.0       1.0\n",
      "1 -1.376739 -0.259877        0.0      0.0          1.0       0.0\n",
      "2  0.259762  0.264874        0.0      1.0          0.0       0.0\n",
      "3  1.350763  0.649691        1.0      0.0          0.0       1.0\n",
      "4 -1.558573  0.999525        0.0      0.0          1.0       0.0\n"
     ]
    }
   ],
   "source": [
    "# Normalize/Standardize data\n",
    "scaler = StandardScaler()\n",
    "df[['cgpa', 'iq']] = scaler.fit_transform(df[['cgpa', 'iq']])\n",
    "\n",
    "# Display cleaned and prepared data\n",
    "print(df.head())"
   ]
  },
  {
   "cell_type": "code",
   "execution_count": 113,
   "metadata": {},
   "outputs": [
    {
     "name": "stdout",
     "output_type": "stream",
     "text": [
      "Accuracy: 1.0\n",
      "Precision: 1.0\n",
      "Recall: 1.0\n",
      "F1 Score: 1.0\n"
     ]
    }
   ],
   "source": [
    "# Drop rows with missing values in the target variable\n",
    "df.dropna(subset=['placement'], inplace=True)\n",
    "\n",
    "# Split the data into features (X) and target variable (y)\n",
    "X = df.drop(columns=['placement'])\n",
    "y = df['placement']\n",
    "\n",
    "# Split data into training and testing sets (80% train, 20% test)\n",
    "X_train, X_test, y_train, y_test = train_test_split(X, y, test_size=0.2, random_state=42)\n",
    "\n",
    "# Initialize the Random Forest Classifier\n",
    "rf_classifier = RandomForestClassifier(n_estimators=100, random_state=42)\n",
    "\n",
    "# Train the classifier\n",
    "rf_classifier.fit(X_train, y_train)\n",
    "\n",
    "# Make predictions on the testing set\n",
    "y_pred = rf_classifier.predict(X_test)\n",
    "\n",
    "# Calculate evaluation metrics\n",
    "accuracy = accuracy_score(y_test, y_pred)\n",
    "precision = precision_score(y_test, y_pred)\n",
    "recall = recall_score(y_test, y_pred)\n",
    "f1 = f1_score(y_test, y_pred)\n",
    "\n",
    "# Print evaluation metrics\n",
    "print(\"Accuracy:\", accuracy)\n",
    "print(\"Precision:\", precision)\n",
    "print(\"Recall:\", recall)\n",
    "print(\"F1 Score:\", f1)\n"
   ]
  },
  {
   "cell_type": "code",
   "execution_count": null,
   "metadata": {},
   "outputs": [],
   "source": []
  }
 ],
 "metadata": {
  "kernelspec": {
   "display_name": "base",
   "language": "python",
   "name": "python3"
  },
  "language_info": {
   "codemirror_mode": {
    "name": "ipython",
    "version": 3
   },
   "file_extension": ".py",
   "mimetype": "text/x-python",
   "name": "python",
   "nbconvert_exporter": "python",
   "pygments_lexer": "ipython3",
   "version": "3.11.5"
  }
 },
 "nbformat": 4,
 "nbformat_minor": 2
}
